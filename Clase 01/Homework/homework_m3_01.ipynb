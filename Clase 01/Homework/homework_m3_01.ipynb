{
 "cells": [
  {
   "cell_type": "code",
   "execution_count": 54,
   "metadata": {},
   "outputs": [],
   "source": [
    "from io import StringIO\n",
    "import csv\n",
    "import os\n",
    "\n",
    "import pymysql"
   ]
  },
  {
   "cell_type": "markdown",
   "metadata": {},
   "source": [
    "### Conectando con servidor MySQL"
   ]
  },
  {
   "cell_type": "code",
   "execution_count": 55,
   "metadata": {},
   "outputs": [],
   "source": [
    "conexion = pymysql.connect(\n",
    "   host='localhost',\n",
    "   database='henry_m3',\n",
    "   user='root',\n",
    "   password='root'\n",
    ")\n",
    "cursor = conexion.cursor()"
   ]
  },
  {
   "cell_type": "markdown",
   "metadata": {},
   "source": [
    "### Enunciado 1"
   ]
  },
  {
   "cell_type": "code",
   "execution_count": 86,
   "metadata": {},
   "outputs": [
    {
     "data": {
      "text/plain": [
       "[('Palermo 1', 'Guatemala 5701', 'CABA', 'CABA', '-34,5790350', '-58,4335660'),\n",
       " ('Palermo 2',\n",
       "  'Gral. Lucio Norberto Mansilla 2668',\n",
       "  'CABA',\n",
       "  'C deBuenos Aires',\n",
       "  '-34,5959660',\n",
       "  '-58,4051500'),\n",
       " ('Corrientes',\n",
       "  'Av. Corrientes 2352',\n",
       "  'Ciudad de Buenos Aires',\n",
       "  'Bs As',\n",
       "  '-34,6046850',\n",
       "  '-58,3987640'),\n",
       " ('Almagro',\n",
       "  'Venezuela 3650',\n",
       "  'Capital',\n",
       "  'Bs.As. ',\n",
       "  '-34,6173080',\n",
       "  '-58,4161790')]"
      ]
     },
     "execution_count": 86,
     "metadata": {},
     "output_type": "execute_result"
    }
   ],
   "source": [
    "sucursales = open('./Clase 01/Homework/Sucursales.csv', encoding='utf-8')\n",
    "sucursal = []\n",
    "for line in sucursales:\n",
    "    line = line.strip()\n",
    "    line = line.split(';')\n",
    "    line = line[1:]\n",
    "    sucursal.append(tuple(line))\n",
    "\n",
    "sucursal_header = ['Sucursal','Direccion','Localidad','Provincia',\n",
    "                        'Latitud','Longitud']\n",
    "sucursal_info = sucursal[1:]\n",
    "\n",
    "#sucursal_header, \n",
    "sucursal_info[1:5]"
   ]
  },
  {
   "cell_type": "code",
   "execution_count": 87,
   "metadata": {},
   "outputs": [],
   "source": [
    "#Mandando información de Sucursal a la tabla\n",
    "cursor.execute(\"TRUNCATE TABLE sucursal\")\n",
    "query = 'INSERT INTO sucursal (sucursal, direccion, localidad, provincia, latitud, longitud) VALUES(%s,%s,%s,%s,%s, %s)'\n",
    "cursor.executemany(query, sucursal_info)\n",
    "conexion.commit()\n",
    "conexion.close()"
   ]
  },
  {
   "cell_type": "code",
   "execution_count": 39,
   "metadata": {},
   "outputs": [
    {
     "data": {
      "text/plain": [
       "[('42754', 'MOT ASROCK H110M-HDS S1151 S/VGA', 'INFORMATICA', '1237,50'),\n",
       " ('42755', 'MOT ASROCK A58M-VG3+ AMD FM2+ R2.0', 'INFORMATICA', '1079,32'),\n",
       " ('42756', 'MOT ECS KAM1-I AM1', 'INFORMATICA', '638,66'),\n",
       " ('42757', 'MOT ASROCK B150M-HDS S1151 S/VGA', 'INFORMATICA', '1784,42')]"
      ]
     },
     "execution_count": 39,
     "metadata": {},
     "output_type": "execute_result"
    }
   ],
   "source": [
    "productos = open('./Clase 01/Homework/toupload/PRODUCTOS.tsv', encoding='utf-8')\n",
    "producto = []\n",
    "for line in productos:\n",
    "    line = line.strip()\n",
    "    line = line.split('\\t')\n",
    "    producto.append(tuple(line))\n",
    "\n",
    "producto_info = producto[1:]\n",
    "\n",
    "producto_info[1:5]"
   ]
  },
  {
   "cell_type": "code",
   "execution_count": 40,
   "metadata": {},
   "outputs": [],
   "source": [
    "cursor.execute(\"TRUNCATE TABLE producto\")\n",
    "query = 'INSERT INTO producto (IDProducto, Concepto, Tipo, Precio2) VALUES(%s,%s,%s,%s)'\n",
    "cursor.executemany(query, producto_info)\n",
    "conexion.commit()\n",
    "conexion.close()"
   ]
  },
  {
   "cell_type": "code",
   "execution_count": 60,
   "metadata": {},
   "outputs": [
    {
     "data": {
      "text/plain": [
       "267"
      ]
     },
     "execution_count": 60,
     "metadata": {},
     "output_type": "execute_result"
    }
   ],
   "source": [
    "empleados = open('./Clase 01/Homework/toupload/Empleados.tsv', encoding='utf-8')\n",
    "empleado = []\n",
    "for line in empleados:\n",
    "    line = line.strip()\n",
    "    line = line.split('\\t')\n",
    "    empleado.append(tuple(line))\n",
    "\n",
    "empleado = empleado[1:]\n",
    "\n",
    "len(empleado)"
   ]
  },
  {
   "cell_type": "code",
   "execution_count": 59,
   "metadata": {},
   "outputs": [],
   "source": [
    "cursor.execute(\"TRUNCATE TABLE empleado;\")\n",
    "query = 'INSERT INTO empleado (IDEmpleado, Apellido, Nombre, Sucursal, Sector, Cargo, Salario2) VALUES(%s,%s, %s, %s,%s, %s, %s);'\n",
    "cursor.executemany(query, empleado)\n",
    "conexion.commit()\n",
    "conexion.close()"
   ]
  },
  {
   "cell_type": "code",
   "execution_count": null,
   "metadata": {},
   "outputs": [],
   "source": []
  }
 ],
 "metadata": {
  "kernelspec": {
   "display_name": "Python 3.10.4 64-bit",
   "language": "python",
   "name": "python3"
  },
  "language_info": {
   "codemirror_mode": {
    "name": "ipython",
    "version": 3
   },
   "file_extension": ".py",
   "mimetype": "text/x-python",
   "name": "python",
   "nbconvert_exporter": "python",
   "pygments_lexer": "ipython3",
   "version": "3.10.4"
  },
  "orig_nbformat": 4,
  "vscode": {
   "interpreter": {
    "hash": "369f2c481f4da34e4445cda3fffd2e751bd1c4d706f27375911949ba6bb62e1c"
   }
  }
 },
 "nbformat": 4,
 "nbformat_minor": 2
}
